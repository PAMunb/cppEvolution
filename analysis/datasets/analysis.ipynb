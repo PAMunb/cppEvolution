{
 "cells": [
  {
   "cell_type": "markdown",
   "metadata": {},
   "source": [
    "---\n",
    "title: \"CPPEvolution\"\n",
    "author: \"Rodrigo Bonifácio et al.\"\n",
    "date: \"6/4/2021\"\n",
    "output: html_document\n",
    "---"
   ]
  },
  {
   "cell_type": "code",
   "execution_count": 1,
   "metadata": {
    "vscode": {
     "languageId": "r"
    }
   },
   "outputs": [],
   "source": [
    "# version\n",
    "# install.packages(\"sqldf\", dependencies = TRUE)\n",
    "# install.packages(\"stringr\", dependencies = TRUE)\n",
    "# install.packages(\"reshape2\", dependencies = TRUE)\n",
    "# install.packages(\"ggplot2\", dependencies = TRUE)\n",
    "# install.packages(\"lubridate\", dependencies = TRUE)\n",
    "# install.packages(\"lattice\", dependencies = TRUE)"
   ]
  },
  {
   "cell_type": "code",
   "execution_count": 2,
   "metadata": {
    "vscode": {
     "languageId": "r"
    }
   },
   "outputs": [
    {
     "name": "stderr",
     "output_type": "stream",
     "text": [
      "Loading required package: gsubfn\n",
      "\n",
      "Loading required package: proto\n",
      "\n",
      "Warning message:\n",
      "“no DISPLAY variable so Tk is not available”\n",
      "Loading required package: RSQLite\n",
      "\n",
      "\n",
      "Attaching package: ‘lubridate’\n",
      "\n",
      "\n",
      "The following objects are masked from ‘package:base’:\n",
      "\n",
      "    date, intersect, setdiff, union\n",
      "\n",
      "\n",
      "\n",
      "Attaching package: ‘dplyr’\n",
      "\n",
      "\n",
      "The following objects are masked from ‘package:stats’:\n",
      "\n",
      "    filter, lag\n",
      "\n",
      "\n",
      "The following objects are masked from ‘package:base’:\n",
      "\n",
      "    intersect, setdiff, setequal, union\n",
      "\n",
      "\n"
     ]
    }
   ],
   "source": [
    "knitr::opts_chunk$set(echo = TRUE)\n",
    "library(sqldf)\n",
    "library(stringr)\n",
    "library(reshape2)\n",
    "library(ggplot2)\n",
    "library(lubridate)\n",
    "library(lattice)\n",
    "library(dplyr)\n",
    "setwd(\".\")"
   ]
  },
  {
   "cell_type": "code",
   "execution_count": 3,
   "metadata": {
    "vscode": {
     "languageId": "r"
    }
   },
   "outputs": [
    {
     "data": {
      "text/html": [
       "<table>\n",
       "<caption>A data.frame: 99 × 4</caption>\n",
       "<thead>\n",
       "\t<tr><th scope=col>project</th><th scope=col>first_revision</th><th scope=col>last_revision</th><th scope=col>commits</th></tr>\n",
       "\t<tr><th scope=col>&lt;chr&gt;</th><th scope=col>&lt;dbl&gt;</th><th scope=col>&lt;dbl&gt;</th><th scope=col>&lt;int&gt;</th></tr>\n",
       "</thead>\n",
       "<tbody>\n",
       "\t<tr><td>akonadi         </td><td>14610</td><td>19130</td><td>527</td></tr>\n",
       "\t<tr><td>akregator       </td><td>14612</td><td>19127</td><td>437</td></tr>\n",
       "\t<tr><td>amarok          </td><td>14611</td><td>19127</td><td>398</td></tr>\n",
       "\t<tr><td>amor            </td><td>14621</td><td>19071</td><td> 81</td></tr>\n",
       "\t<tr><td>ark             </td><td>14611</td><td>19127</td><td>395</td></tr>\n",
       "\t<tr><td>bluedevil       </td><td>14659</td><td>19127</td><td>339</td></tr>\n",
       "\t<tr><td>calligra        </td><td>14610</td><td>19131</td><td>540</td></tr>\n",
       "\t<tr><td>choqok          </td><td>14611</td><td>19127</td><td>294</td></tr>\n",
       "\t<tr><td>discover        </td><td>14778</td><td>19125</td><td>507</td></tr>\n",
       "\t<tr><td>dolphin         </td><td>14611</td><td>19130</td><td>500</td></tr>\n",
       "\t<tr><td>dolphin-plugins </td><td>14611</td><td>19127</td><td>179</td></tr>\n",
       "\t<tr><td>filelight       </td><td>14620</td><td>19116</td><td>240</td></tr>\n",
       "\t<tr><td>gwenview        </td><td>14610</td><td>19127</td><td>406</td></tr>\n",
       "\t<tr><td>juk             </td><td>14611</td><td>19119</td><td>272</td></tr>\n",
       "\t<tr><td>k3b             </td><td>14611</td><td>19127</td><td>341</td></tr>\n",
       "\t<tr><td>kaffeine        </td><td>14611</td><td>19127</td><td>182</td></tr>\n",
       "\t<tr><td>kalgebra        </td><td>14618</td><td>19119</td><td>287</td></tr>\n",
       "\t<tr><td>kalzium         </td><td>14610</td><td>19126</td><td>239</td></tr>\n",
       "\t<tr><td>kamoso          </td><td>14682</td><td>19127</td><td>229</td></tr>\n",
       "\t<tr><td>kate            </td><td>14610</td><td>19125</td><td>534</td></tr>\n",
       "\t<tr><td>kbibtex         </td><td>14610</td><td>19127</td><td>365</td></tr>\n",
       "\t<tr><td>kcachegrind     </td><td>14611</td><td>19127</td><td>213</td></tr>\n",
       "\t<tr><td>kcalc           </td><td>14616</td><td>19119</td><td>230</td></tr>\n",
       "\t<tr><td>kde-cli-tools   </td><td>14616</td><td>19131</td><td>292</td></tr>\n",
       "\t<tr><td>kde-gtk-config  </td><td>14973</td><td>19126</td><td>251</td></tr>\n",
       "\t<tr><td>kdenlive        </td><td>14611</td><td>19127</td><td>538</td></tr>\n",
       "\t<tr><td>kdeplasma-addons</td><td>14611</td><td>19133</td><td>498</td></tr>\n",
       "\t<tr><td>kdesvn          </td><td>14614</td><td>19127</td><td>178</td></tr>\n",
       "\t<tr><td>kdevelop        </td><td>14610</td><td>19127</td><td>570</td></tr>\n",
       "\t<tr><td>kdialog         </td><td>14616</td><td>19119</td><td>220</td></tr>\n",
       "\t<tr><td>⋮</td><td>⋮</td><td>⋮</td><td>⋮</td></tr>\n",
       "\t<tr><td>kwave            </td><td>14614</td><td>19131</td><td>306</td></tr>\n",
       "\t<tr><td>kwidgetsaddons   </td><td>15211</td><td>19126</td><td>278</td></tr>\n",
       "\t<tr><td>kwin             </td><td>14611</td><td>19133</td><td>596</td></tr>\n",
       "\t<tr><td>kxstitch         </td><td>14971</td><td>19113</td><td>140</td></tr>\n",
       "\t<tr><td>labplot          </td><td>14613</td><td>19131</td><td>500</td></tr>\n",
       "\t<tr><td>libksysguard     </td><td>14611</td><td>19131</td><td>357</td></tr>\n",
       "\t<tr><td>libqapt          </td><td>14695</td><td>19133</td><td>178</td></tr>\n",
       "\t<tr><td>lokalize         </td><td>14611</td><td>19127</td><td>296</td></tr>\n",
       "\t<tr><td>marble           </td><td>14613</td><td>19129</td><td>478</td></tr>\n",
       "\t<tr><td>massif-visualizer</td><td>14677</td><td>19127</td><td>158</td></tr>\n",
       "\t<tr><td>okteta           </td><td>14611</td><td>19129</td><td>319</td></tr>\n",
       "\t<tr><td>okular           </td><td>14612</td><td>19129</td><td>486</td></tr>\n",
       "\t<tr><td>partitionmanager </td><td>14614</td><td>19127</td><td>259</td></tr>\n",
       "\t<tr><td>plasma-desktop   </td><td>14611</td><td>19130</td><td>481</td></tr>\n",
       "\t<tr><td>plasma-framework </td><td>14610</td><td>19126</td><td>561</td></tr>\n",
       "\t<tr><td>powerdevil       </td><td>14611</td><td>19126</td><td>398</td></tr>\n",
       "\t<tr><td>prison           </td><td>14822</td><td>19126</td><td>168</td></tr>\n",
       "\t<tr><td>qca              </td><td>14637</td><td>19114</td><td>130</td></tr>\n",
       "\t<tr><td>qtcurve          </td><td>14612</td><td>18922</td><td>179</td></tr>\n",
       "\t<tr><td>rocs             </td><td>14612</td><td>19127</td><td>312</td></tr>\n",
       "\t<tr><td>rsibreak         </td><td>14610</td><td>19128</td><td>116</td></tr>\n",
       "\t<tr><td>smb4k            </td><td>14616</td><td>19126</td><td>395</td></tr>\n",
       "\t<tr><td>snorenotify      </td><td>14660</td><td>19130</td><td>105</td></tr>\n",
       "\t<tr><td>step             </td><td>14645</td><td>19127</td><td>185</td></tr>\n",
       "\t<tr><td>systemsettings   </td><td>14610</td><td>19127</td><td>396</td></tr>\n",
       "\t<tr><td>tellico          </td><td>14610</td><td>19122</td><td>398</td></tr>\n",
       "\t<tr><td>trojita          </td><td>14617</td><td>19127</td><td>325</td></tr>\n",
       "\t<tr><td>umbrello         </td><td>14611</td><td>19121</td><td>402</td></tr>\n",
       "\t<tr><td>yakuake          </td><td>14613</td><td>19119</td><td>213</td></tr>\n",
       "\t<tr><td>zanshin          </td><td>14736</td><td>19119</td><td>283</td></tr>\n",
       "</tbody>\n",
       "</table>\n"
      ],
      "text/latex": [
       "A data.frame: 99 × 4\n",
       "\\begin{tabular}{llll}\n",
       " project & first\\_revision & last\\_revision & commits\\\\\n",
       " <chr> & <dbl> & <dbl> & <int>\\\\\n",
       "\\hline\n",
       "\t akonadi          & 14610 & 19130 & 527\\\\\n",
       "\t akregator        & 14612 & 19127 & 437\\\\\n",
       "\t amarok           & 14611 & 19127 & 398\\\\\n",
       "\t amor             & 14621 & 19071 &  81\\\\\n",
       "\t ark              & 14611 & 19127 & 395\\\\\n",
       "\t bluedevil        & 14659 & 19127 & 339\\\\\n",
       "\t calligra         & 14610 & 19131 & 540\\\\\n",
       "\t choqok           & 14611 & 19127 & 294\\\\\n",
       "\t discover         & 14778 & 19125 & 507\\\\\n",
       "\t dolphin          & 14611 & 19130 & 500\\\\\n",
       "\t dolphin-plugins  & 14611 & 19127 & 179\\\\\n",
       "\t filelight        & 14620 & 19116 & 240\\\\\n",
       "\t gwenview         & 14610 & 19127 & 406\\\\\n",
       "\t juk              & 14611 & 19119 & 272\\\\\n",
       "\t k3b              & 14611 & 19127 & 341\\\\\n",
       "\t kaffeine         & 14611 & 19127 & 182\\\\\n",
       "\t kalgebra         & 14618 & 19119 & 287\\\\\n",
       "\t kalzium          & 14610 & 19126 & 239\\\\\n",
       "\t kamoso           & 14682 & 19127 & 229\\\\\n",
       "\t kate             & 14610 & 19125 & 534\\\\\n",
       "\t kbibtex          & 14610 & 19127 & 365\\\\\n",
       "\t kcachegrind      & 14611 & 19127 & 213\\\\\n",
       "\t kcalc            & 14616 & 19119 & 230\\\\\n",
       "\t kde-cli-tools    & 14616 & 19131 & 292\\\\\n",
       "\t kde-gtk-config   & 14973 & 19126 & 251\\\\\n",
       "\t kdenlive         & 14611 & 19127 & 538\\\\\n",
       "\t kdeplasma-addons & 14611 & 19133 & 498\\\\\n",
       "\t kdesvn           & 14614 & 19127 & 178\\\\\n",
       "\t kdevelop         & 14610 & 19127 & 570\\\\\n",
       "\t kdialog          & 14616 & 19119 & 220\\\\\n",
       "\t ⋮ & ⋮ & ⋮ & ⋮\\\\\n",
       "\t kwave             & 14614 & 19131 & 306\\\\\n",
       "\t kwidgetsaddons    & 15211 & 19126 & 278\\\\\n",
       "\t kwin              & 14611 & 19133 & 596\\\\\n",
       "\t kxstitch          & 14971 & 19113 & 140\\\\\n",
       "\t labplot           & 14613 & 19131 & 500\\\\\n",
       "\t libksysguard      & 14611 & 19131 & 357\\\\\n",
       "\t libqapt           & 14695 & 19133 & 178\\\\\n",
       "\t lokalize          & 14611 & 19127 & 296\\\\\n",
       "\t marble            & 14613 & 19129 & 478\\\\\n",
       "\t massif-visualizer & 14677 & 19127 & 158\\\\\n",
       "\t okteta            & 14611 & 19129 & 319\\\\\n",
       "\t okular            & 14612 & 19129 & 486\\\\\n",
       "\t partitionmanager  & 14614 & 19127 & 259\\\\\n",
       "\t plasma-desktop    & 14611 & 19130 & 481\\\\\n",
       "\t plasma-framework  & 14610 & 19126 & 561\\\\\n",
       "\t powerdevil        & 14611 & 19126 & 398\\\\\n",
       "\t prison            & 14822 & 19126 & 168\\\\\n",
       "\t qca               & 14637 & 19114 & 130\\\\\n",
       "\t qtcurve           & 14612 & 18922 & 179\\\\\n",
       "\t rocs              & 14612 & 19127 & 312\\\\\n",
       "\t rsibreak          & 14610 & 19128 & 116\\\\\n",
       "\t smb4k             & 14616 & 19126 & 395\\\\\n",
       "\t snorenotify       & 14660 & 19130 & 105\\\\\n",
       "\t step              & 14645 & 19127 & 185\\\\\n",
       "\t systemsettings    & 14610 & 19127 & 396\\\\\n",
       "\t tellico           & 14610 & 19122 & 398\\\\\n",
       "\t trojita           & 14617 & 19127 & 325\\\\\n",
       "\t umbrello          & 14611 & 19121 & 402\\\\\n",
       "\t yakuake           & 14613 & 19119 & 213\\\\\n",
       "\t zanshin           & 14736 & 19119 & 283\\\\\n",
       "\\end{tabular}\n"
      ],
      "text/markdown": [
       "\n",
       "A data.frame: 99 × 4\n",
       "\n",
       "| project &lt;chr&gt; | first_revision &lt;dbl&gt; | last_revision &lt;dbl&gt; | commits &lt;int&gt; |\n",
       "|---|---|---|---|\n",
       "| akonadi          | 14610 | 19130 | 527 |\n",
       "| akregator        | 14612 | 19127 | 437 |\n",
       "| amarok           | 14611 | 19127 | 398 |\n",
       "| amor             | 14621 | 19071 |  81 |\n",
       "| ark              | 14611 | 19127 | 395 |\n",
       "| bluedevil        | 14659 | 19127 | 339 |\n",
       "| calligra         | 14610 | 19131 | 540 |\n",
       "| choqok           | 14611 | 19127 | 294 |\n",
       "| discover         | 14778 | 19125 | 507 |\n",
       "| dolphin          | 14611 | 19130 | 500 |\n",
       "| dolphin-plugins  | 14611 | 19127 | 179 |\n",
       "| filelight        | 14620 | 19116 | 240 |\n",
       "| gwenview         | 14610 | 19127 | 406 |\n",
       "| juk              | 14611 | 19119 | 272 |\n",
       "| k3b              | 14611 | 19127 | 341 |\n",
       "| kaffeine         | 14611 | 19127 | 182 |\n",
       "| kalgebra         | 14618 | 19119 | 287 |\n",
       "| kalzium          | 14610 | 19126 | 239 |\n",
       "| kamoso           | 14682 | 19127 | 229 |\n",
       "| kate             | 14610 | 19125 | 534 |\n",
       "| kbibtex          | 14610 | 19127 | 365 |\n",
       "| kcachegrind      | 14611 | 19127 | 213 |\n",
       "| kcalc            | 14616 | 19119 | 230 |\n",
       "| kde-cli-tools    | 14616 | 19131 | 292 |\n",
       "| kde-gtk-config   | 14973 | 19126 | 251 |\n",
       "| kdenlive         | 14611 | 19127 | 538 |\n",
       "| kdeplasma-addons | 14611 | 19133 | 498 |\n",
       "| kdesvn           | 14614 | 19127 | 178 |\n",
       "| kdevelop         | 14610 | 19127 | 570 |\n",
       "| kdialog          | 14616 | 19119 | 220 |\n",
       "| ⋮ | ⋮ | ⋮ | ⋮ |\n",
       "| kwave             | 14614 | 19131 | 306 |\n",
       "| kwidgetsaddons    | 15211 | 19126 | 278 |\n",
       "| kwin              | 14611 | 19133 | 596 |\n",
       "| kxstitch          | 14971 | 19113 | 140 |\n",
       "| labplot           | 14613 | 19131 | 500 |\n",
       "| libksysguard      | 14611 | 19131 | 357 |\n",
       "| libqapt           | 14695 | 19133 | 178 |\n",
       "| lokalize          | 14611 | 19127 | 296 |\n",
       "| marble            | 14613 | 19129 | 478 |\n",
       "| massif-visualizer | 14677 | 19127 | 158 |\n",
       "| okteta            | 14611 | 19129 | 319 |\n",
       "| okular            | 14612 | 19129 | 486 |\n",
       "| partitionmanager  | 14614 | 19127 | 259 |\n",
       "| plasma-desktop    | 14611 | 19130 | 481 |\n",
       "| plasma-framework  | 14610 | 19126 | 561 |\n",
       "| powerdevil        | 14611 | 19126 | 398 |\n",
       "| prison            | 14822 | 19126 | 168 |\n",
       "| qca               | 14637 | 19114 | 130 |\n",
       "| qtcurve           | 14612 | 18922 | 179 |\n",
       "| rocs              | 14612 | 19127 | 312 |\n",
       "| rsibreak          | 14610 | 19128 | 116 |\n",
       "| smb4k             | 14616 | 19126 | 395 |\n",
       "| snorenotify       | 14660 | 19130 | 105 |\n",
       "| step              | 14645 | 19127 | 185 |\n",
       "| systemsettings    | 14610 | 19127 | 396 |\n",
       "| tellico           | 14610 | 19122 | 398 |\n",
       "| trojita           | 14617 | 19127 | 325 |\n",
       "| umbrello          | 14611 | 19121 | 402 |\n",
       "| yakuake           | 14613 | 19119 | 213 |\n",
       "| zanshin           | 14736 | 19119 | 283 |\n",
       "\n"
      ],
      "text/plain": [
       "   project           first_revision last_revision commits\n",
       "1  akonadi           14610          19130         527    \n",
       "2  akregator         14612          19127         437    \n",
       "3  amarok            14611          19127         398    \n",
       "4  amor              14621          19071          81    \n",
       "5  ark               14611          19127         395    \n",
       "6  bluedevil         14659          19127         339    \n",
       "7  calligra          14610          19131         540    \n",
       "8  choqok            14611          19127         294    \n",
       "9  discover          14778          19125         507    \n",
       "10 dolphin           14611          19130         500    \n",
       "11 dolphin-plugins   14611          19127         179    \n",
       "12 filelight         14620          19116         240    \n",
       "13 gwenview          14610          19127         406    \n",
       "14 juk               14611          19119         272    \n",
       "15 k3b               14611          19127         341    \n",
       "16 kaffeine          14611          19127         182    \n",
       "17 kalgebra          14618          19119         287    \n",
       "18 kalzium           14610          19126         239    \n",
       "19 kamoso            14682          19127         229    \n",
       "20 kate              14610          19125         534    \n",
       "21 kbibtex           14610          19127         365    \n",
       "22 kcachegrind       14611          19127         213    \n",
       "23 kcalc             14616          19119         230    \n",
       "24 kde-cli-tools     14616          19131         292    \n",
       "25 kde-gtk-config    14973          19126         251    \n",
       "26 kdenlive          14611          19127         538    \n",
       "27 kdeplasma-addons  14611          19133         498    \n",
       "28 kdesvn            14614          19127         178    \n",
       "29 kdevelop          14610          19127         570    \n",
       "30 kdialog           14616          19119         220    \n",
       "⋮  ⋮                 ⋮              ⋮             ⋮      \n",
       "70 kwave             14614          19131         306    \n",
       "71 kwidgetsaddons    15211          19126         278    \n",
       "72 kwin              14611          19133         596    \n",
       "73 kxstitch          14971          19113         140    \n",
       "74 labplot           14613          19131         500    \n",
       "75 libksysguard      14611          19131         357    \n",
       "76 libqapt           14695          19133         178    \n",
       "77 lokalize          14611          19127         296    \n",
       "78 marble            14613          19129         478    \n",
       "79 massif-visualizer 14677          19127         158    \n",
       "80 okteta            14611          19129         319    \n",
       "81 okular            14612          19129         486    \n",
       "82 partitionmanager  14614          19127         259    \n",
       "83 plasma-desktop    14611          19130         481    \n",
       "84 plasma-framework  14610          19126         561    \n",
       "85 powerdevil        14611          19126         398    \n",
       "86 prison            14822          19126         168    \n",
       "87 qca               14637          19114         130    \n",
       "88 qtcurve           14612          18922         179    \n",
       "89 rocs              14612          19127         312    \n",
       "90 rsibreak          14610          19128         116    \n",
       "91 smb4k             14616          19126         395    \n",
       "92 snorenotify       14660          19130         105    \n",
       "93 step              14645          19127         185    \n",
       "94 systemsettings    14610          19127         396    \n",
       "95 tellico           14610          19122         398    \n",
       "96 trojita           14617          19127         325    \n",
       "97 umbrello          14611          19121         402    \n",
       "98 yakuake           14613          19119         213    \n",
       "99 zanshin           14736          19119         283    "
      ]
     },
     "metadata": {},
     "output_type": "display_data"
    }
   ],
   "source": [
    "## Load the KCalc dataset\n",
    "\n",
    "# \"lambda\"              \"auto\"               \n",
    "# \"range_for\"           \"const_expr\"          \"if_with_initializer\"\n",
    "\n",
    "ds <- read.csv(\"all-results.csv\", head=T, sep=\",\")\n",
    "\n",
    "ds$date <- as.Date(ds$date)\n",
    "\n",
    "projects <- sqldf(\"select project, \n",
    "                          min(date) as first_revision, \n",
    "                          max(date) as last_revision, \n",
    "                          count(revision) as commits\n",
    "                    from ds\n",
    "                    group by project\", method = \"name__class\")\n",
    "projects"
   ]
  },
  {
   "cell_type": "code",
   "execution_count": 4,
   "metadata": {
    "scrolled": false,
    "vscode": {
     "languageId": "r"
    }
   },
   "outputs": [
    {
     "data": {
      "text/html": [
       "<strong>png:</strong> 2"
      ],
      "text/latex": [
       "\\textbf{png:} 2"
      ],
      "text/markdown": [
       "**png:** 2"
      ],
      "text/plain": [
       "png \n",
       "  2 "
      ]
     },
     "metadata": {},
     "output_type": "display_data"
    },
    {
     "data": {
      "text/html": [
       "<table>\n",
       "<caption>A tibble: 3 × 6</caption>\n",
       "<thead>\n",
       "\t<tr><th scope=col>feature</th><th scope=col>Mean</th><th scope=col>Max</th><th scope=col>Min</th><th scope=col>Median</th><th scope=col>Std</th></tr>\n",
       "\t<tr><th scope=col>&lt;fct&gt;</th><th scope=col>&lt;dbl&gt;</th><th scope=col>&lt;int&gt;</th><th scope=col>&lt;int&gt;</th><th scope=col>&lt;int&gt;</th><th scope=col>&lt;dbl&gt;</th></tr>\n",
       "</thead>\n",
       "<tbody>\n",
       "\t<tr><td>lambda   </td><td> 72.52525</td><td> 897</td><td>0</td><td>11</td><td>155.6026</td></tr>\n",
       "\t<tr><td>auto     </td><td>272.04040</td><td>4416</td><td>0</td><td>49</td><td>595.5355</td></tr>\n",
       "\t<tr><td>range_for</td><td>135.06061</td><td>1715</td><td>0</td><td>38</td><td>258.9153</td></tr>\n",
       "</tbody>\n",
       "</table>\n"
      ],
      "text/latex": [
       "A tibble: 3 × 6\n",
       "\\begin{tabular}{llllll}\n",
       " feature & Mean & Max & Min & Median & Std\\\\\n",
       " <fct> & <dbl> & <int> & <int> & <int> & <dbl>\\\\\n",
       "\\hline\n",
       "\t lambda    &  72.52525 &  897 & 0 & 11 & 155.6026\\\\\n",
       "\t auto      & 272.04040 & 4416 & 0 & 49 & 595.5355\\\\\n",
       "\t range\\_for & 135.06061 & 1715 & 0 & 38 & 258.9153\\\\\n",
       "\\end{tabular}\n"
      ],
      "text/markdown": [
       "\n",
       "A tibble: 3 × 6\n",
       "\n",
       "| feature &lt;fct&gt; | Mean &lt;dbl&gt; | Max &lt;int&gt; | Min &lt;int&gt; | Median &lt;int&gt; | Std &lt;dbl&gt; |\n",
       "|---|---|---|---|---|---|\n",
       "| lambda    |  72.52525 |  897 | 0 | 11 | 155.6026 |\n",
       "| auto      | 272.04040 | 4416 | 0 | 49 | 595.5355 |\n",
       "| range_for | 135.06061 | 1715 | 0 | 38 | 258.9153 |\n",
       "\n"
      ],
      "text/plain": [
       "  feature   Mean      Max  Min Median Std     \n",
       "1 lambda     72.52525  897 0   11     155.6026\n",
       "2 auto      272.04040 4416 0   49     595.5355\n",
       "3 range_for 135.06061 1715 0   38     258.9153"
      ]
     },
     "metadata": {},
     "output_type": "display_data"
    },
    {
     "data": {
      "text/html": [
       "<table>\n",
       "<caption>A data.frame: 10 × 2</caption>\n",
       "<thead>\n",
       "\t<tr><th scope=col>feature</th><th scope=col>sum(total)</th></tr>\n",
       "\t<tr><th scope=col>&lt;fct&gt;</th><th scope=col>&lt;int&gt;</th></tr>\n",
       "</thead>\n",
       "<tbody>\n",
       "\t<tr><td>async                     </td><td>    0</td></tr>\n",
       "\t<tr><td>auto                      </td><td>26932</td></tr>\n",
       "\t<tr><td>const_expr                </td><td>  654</td></tr>\n",
       "\t<tr><td>future_declarations       </td><td>    0</td></tr>\n",
       "\t<tr><td>if_with_initializer       </td><td>   65</td></tr>\n",
       "\t<tr><td>lambda                    </td><td> 7180</td></tr>\n",
       "\t<tr><td>promise_declarations      </td><td>    0</td></tr>\n",
       "\t<tr><td>range_for                 </td><td>13371</td></tr>\n",
       "\t<tr><td>shared_future_declarations</td><td>    0</td></tr>\n",
       "\t<tr><td>thread_declarations       </td><td>    6</td></tr>\n",
       "</tbody>\n",
       "</table>\n"
      ],
      "text/latex": [
       "A data.frame: 10 × 2\n",
       "\\begin{tabular}{ll}\n",
       " feature & sum(total)\\\\\n",
       " <fct> & <int>\\\\\n",
       "\\hline\n",
       "\t async                      &     0\\\\\n",
       "\t auto                       & 26932\\\\\n",
       "\t const\\_expr                 &   654\\\\\n",
       "\t future\\_declarations        &     0\\\\\n",
       "\t if\\_with\\_initializer        &    65\\\\\n",
       "\t lambda                     &  7180\\\\\n",
       "\t promise\\_declarations       &     0\\\\\n",
       "\t range\\_for                  & 13371\\\\\n",
       "\t shared\\_future\\_declarations &     0\\\\\n",
       "\t thread\\_declarations        &     6\\\\\n",
       "\\end{tabular}\n"
      ],
      "text/markdown": [
       "\n",
       "A data.frame: 10 × 2\n",
       "\n",
       "| feature &lt;fct&gt; | sum(total) &lt;int&gt; |\n",
       "|---|---|\n",
       "| async                      |     0 |\n",
       "| auto                       | 26932 |\n",
       "| const_expr                 |   654 |\n",
       "| future_declarations        |     0 |\n",
       "| if_with_initializer        |    65 |\n",
       "| lambda                     |  7180 |\n",
       "| promise_declarations       |     0 |\n",
       "| range_for                  | 13371 |\n",
       "| shared_future_declarations |     0 |\n",
       "| thread_declarations        |     6 |\n",
       "\n"
      ],
      "text/plain": [
       "   feature                    sum(total)\n",
       "1  async                          0     \n",
       "2  auto                       26932     \n",
       "3  const_expr                   654     \n",
       "4  future_declarations            0     \n",
       "5  if_with_initializer           65     \n",
       "6  lambda                      7180     \n",
       "7  promise_declarations           0     \n",
       "8  range_for                  13371     \n",
       "9  shared_future_declarations     0     \n",
       "10 thread_declarations            6     "
      ]
     },
     "metadata": {},
     "output_type": "display_data"
    },
    {
     "data": {
      "text/html": [
       "<table>\n",
       "<caption>A data.frame: 6 × 2</caption>\n",
       "<thead>\n",
       "\t<tr><th scope=col>feature</th><th scope=col>percentage</th></tr>\n",
       "\t<tr><th scope=col>&lt;chr&gt;</th><th scope=col>&lt;dbl&gt;</th></tr>\n",
       "</thead>\n",
       "<tbody>\n",
       "\t<tr><td>auto               </td><td>93.939394</td></tr>\n",
       "\t<tr><td>const_expr         </td><td>28.282828</td></tr>\n",
       "\t<tr><td>if_with_initializer</td><td>11.111111</td></tr>\n",
       "\t<tr><td>lambda             </td><td>85.858586</td></tr>\n",
       "\t<tr><td>range_for          </td><td>88.888889</td></tr>\n",
       "\t<tr><td>thread_declarations</td><td> 2.020202</td></tr>\n",
       "</tbody>\n",
       "</table>\n"
      ],
      "text/latex": [
       "A data.frame: 6 × 2\n",
       "\\begin{tabular}{ll}\n",
       " feature & percentage\\\\\n",
       " <chr> & <dbl>\\\\\n",
       "\\hline\n",
       "\t auto                & 93.939394\\\\\n",
       "\t const\\_expr          & 28.282828\\\\\n",
       "\t if\\_with\\_initializer & 11.111111\\\\\n",
       "\t lambda              & 85.858586\\\\\n",
       "\t range\\_for           & 88.888889\\\\\n",
       "\t thread\\_declarations &  2.020202\\\\\n",
       "\\end{tabular}\n"
      ],
      "text/markdown": [
       "\n",
       "A data.frame: 6 × 2\n",
       "\n",
       "| feature &lt;chr&gt; | percentage &lt;dbl&gt; |\n",
       "|---|---|\n",
       "| auto                | 93.939394 |\n",
       "| const_expr          | 28.282828 |\n",
       "| if_with_initializer | 11.111111 |\n",
       "| lambda              | 85.858586 |\n",
       "| range_for           | 88.888889 |\n",
       "| thread_declarations |  2.020202 |\n",
       "\n"
      ],
      "text/plain": [
       "  feature             percentage\n",
       "1 auto                93.939394 \n",
       "2 const_expr          28.282828 \n",
       "3 if_with_initializer 11.111111 \n",
       "4 lambda              85.858586 \n",
       "5 range_for           88.888889 \n",
       "6 thread_declarations  2.020202 "
      ]
     },
     "metadata": {},
     "output_type": "display_data"
    },
    {
     "data": {
      "image/png": "[encoded data removed]",
      "text/plain": [
       "plot without title"
      ]
     },
     "metadata": {
      "image/png": {
       "height": 420,
       "width": 420
      }
     },
     "output_type": "display_data"
    }
   ],
   "source": [
    "### Research Question 1\n",
    "\n",
    "rq1 <- sqldf(\"select ds.project, date, lambda, auto, range_for, if_with_initializer,          \n",
    "                      thread_declarations,future_declarations, const_expr,\n",
    "                      shared_future_declarations,promise_declarations,async,statements,files\n",
    "              from ds, projects p\n",
    "              where ds.project = p.project\n",
    "                and ds.date = p.last_revision\", method = \"name__class\")\n",
    "\n",
    "rq1 <- melt(rq1, id.vars=c(\"project\", \"date\", \"statements\", \"files\"), value.name = \"total\", variable.name=\"feature\")\n",
    "\n",
    "# colnames(rq1)\n",
    "\n",
    "rq5 <- sqldf(\"select project, feature, total\n",
    "                      from rq1 \n",
    "                      where feature in ('auto','lambda', 'range_for')\n",
    "                      order by 2\")\n",
    "\n",
    "pdf(\"distribution.pdf\",         # File name\n",
    "    width = 8, height = 7, # Width and height in inches\n",
    "    bg = \"white\")\n",
    "\n",
    "bwplot(total~feature,data=rq5,xlab=\"Features\",ylab=\"Total\")\n",
    "\n",
    "dev.off()\n",
    "\n",
    "bwplot(total~feature,data=rq5,xlab=\"Features\",ylab=\"Total\", md = tapply(rq5$total, rq5$feature, median),\n",
    "       panel = function(x, y, md, ...) {\n",
    "         panel.bwplot(x, y, ...)\n",
    "         panel.text(x = 1:4, y = md, labels = round(md, 2), pos = 3)\n",
    "       })\n",
    "\n",
    "rq5%>%\n",
    "group_by(feature)%>% \n",
    "summarise(Mean=mean(total), Max=max(total), Min=min(total), Median=median(total), Std=sd(total))\n",
    "\n",
    "sqldf(\"select feature, sum(total)\n",
    "       from rq1 \n",
    "       group by feature \n",
    "       order by 1\")\n",
    "\n",
    "rq1_summary <- sqldf(\"select feature, (100*count(distinct project))/99.0 percentage\n",
    "                      from rq1 \n",
    "                      where total > 0 \n",
    "                      group by feature\", method = \"name__class\")\n",
    "\n",
    "rq1_summary"
   ]
  },
  {
   "cell_type": "code",
   "execution_count": 5,
   "metadata": {
    "vscode": {
     "languageId": "r"
    }
   },
   "outputs": [
    {
     "data": {
      "text/html": [
       "<table>\n",
       "<caption>A tibble: 3 × 3</caption>\n",
       "<thead>\n",
       "\t<tr><th scope=col>feature</th><th scope=col>cor1</th><th scope=col>cor2</th></tr>\n",
       "\t<tr><th scope=col>&lt;fct&gt;</th><th scope=col>&lt;dbl&gt;</th><th scope=col>&lt;dbl&gt;</th></tr>\n",
       "</thead>\n",
       "<tbody>\n",
       "\t<tr><td>lambda   </td><td>0.5329455</td><td>0.6110828</td></tr>\n",
       "\t<tr><td>auto     </td><td>0.5273722</td><td>0.5959031</td></tr>\n",
       "\t<tr><td>range_for</td><td>0.5545789</td><td>0.5911069</td></tr>\n",
       "</tbody>\n",
       "</table>\n"
      ],
      "text/latex": [
       "A tibble: 3 × 3\n",
       "\\begin{tabular}{lll}\n",
       " feature & cor1 & cor2\\\\\n",
       " <fct> & <dbl> & <dbl>\\\\\n",
       "\\hline\n",
       "\t lambda    & 0.5329455 & 0.6110828\\\\\n",
       "\t auto      & 0.5273722 & 0.5959031\\\\\n",
       "\t range\\_for & 0.5545789 & 0.5911069\\\\\n",
       "\\end{tabular}\n"
      ],
      "text/markdown": [
       "\n",
       "A tibble: 3 × 3\n",
       "\n",
       "| feature &lt;fct&gt; | cor1 &lt;dbl&gt; | cor2 &lt;dbl&gt; |\n",
       "|---|---|---|\n",
       "| lambda    | 0.5329455 | 0.6110828 |\n",
       "| auto      | 0.5273722 | 0.5959031 |\n",
       "| range_for | 0.5545789 | 0.5911069 |\n",
       "\n"
      ],
      "text/plain": [
       "  feature   cor1      cor2     \n",
       "1 lambda    0.5329455 0.6110828\n",
       "2 auto      0.5273722 0.5959031\n",
       "3 range_for 0.5545789 0.5911069"
      ]
     },
     "metadata": {},
     "output_type": "display_data"
    }
   ],
   "source": [
    "rq6 <- sqldf(\"select project, feature, statements, files, total\n",
    "                      from rq1 \n",
    "                      where feature in ('auto','lambda', 'range_for')\n",
    "                      order by 2\")\n",
    "\n",
    "rq6%>%\n",
    "group_by(feature)%>% \n",
    "summarise(cor1=cor(statements,total,method=\"spearman\"), cor2=cor(files,total,method=\"spearman\"))"
   ]
  },
  {
   "cell_type": "code",
   "execution_count": 6,
   "metadata": {
    "vscode": {
     "languageId": "r"
    }
   },
   "outputs": [
    {
     "data": {
      "text/html": [
       "0"
      ],
      "text/latex": [
       "0"
      ],
      "text/markdown": [
       "0"
      ],
      "text/plain": [
       "[1] 0"
      ]
     },
     "metadata": {},
     "output_type": "display_data"
    },
    {
     "data": {
      "text/html": [
       "<table>\n",
       "<caption>A data.frame: 1 × 1</caption>\n",
       "<thead>\n",
       "\t<tr><th scope=col>count(distinct project)</th></tr>\n",
       "\t<tr><th scope=col>&lt;int&gt;</th></tr>\n",
       "</thead>\n",
       "<tbody>\n",
       "\t<tr><td>99</td></tr>\n",
       "</tbody>\n",
       "</table>\n"
      ],
      "text/latex": [
       "A data.frame: 1 × 1\n",
       "\\begin{tabular}{l}\n",
       " count(distinct project)\\\\\n",
       " <int>\\\\\n",
       "\\hline\n",
       "\t 99\\\\\n",
       "\\end{tabular}\n"
      ],
      "text/markdown": [
       "\n",
       "A data.frame: 1 × 1\n",
       "\n",
       "| count(distinct project) &lt;int&gt; |\n",
       "|---|\n",
       "| 99 |\n",
       "\n"
      ],
      "text/plain": [
       "  count(distinct project)\n",
       "1 99                     "
      ]
     },
     "metadata": {},
     "output_type": "display_data"
    },
    {
     "data": {
      "text/html": [
       "<table>\n",
       "<caption>A data.frame: 7 × 2</caption>\n",
       "<thead>\n",
       "\t<tr><th scope=col>feature</th><th scope=col>min(monthYear)</th></tr>\n",
       "\t<tr><th scope=col>&lt;fct&gt;</th><th scope=col>&lt;chr&gt;</th></tr>\n",
       "</thead>\n",
       "<tbody>\n",
       "\t<tr><td>auto               </td><td>2011-12</td></tr>\n",
       "\t<tr><td>const_expr         </td><td>2012-11</td></tr>\n",
       "\t<tr><td>decl_type          </td><td>2013-07</td></tr>\n",
       "\t<tr><td>if_with_initializer</td><td>2020-05</td></tr>\n",
       "\t<tr><td>lambda             </td><td>2012-08</td></tr>\n",
       "\t<tr><td>range_for          </td><td>2011-12</td></tr>\n",
       "\t<tr><td>thread_declarations</td><td>2018-05</td></tr>\n",
       "</tbody>\n",
       "</table>\n"
      ],
      "text/latex": [
       "A data.frame: 7 × 2\n",
       "\\begin{tabular}{ll}\n",
       " feature & min(monthYear)\\\\\n",
       " <fct> & <chr>\\\\\n",
       "\\hline\n",
       "\t auto                & 2011-12\\\\\n",
       "\t const\\_expr          & 2012-11\\\\\n",
       "\t decl\\_type           & 2013-07\\\\\n",
       "\t if\\_with\\_initializer & 2020-05\\\\\n",
       "\t lambda              & 2012-08\\\\\n",
       "\t range\\_for           & 2011-12\\\\\n",
       "\t thread\\_declarations & 2018-05\\\\\n",
       "\\end{tabular}\n"
      ],
      "text/markdown": [
       "\n",
       "A data.frame: 7 × 2\n",
       "\n",
       "| feature &lt;fct&gt; | min(monthYear) &lt;chr&gt; |\n",
       "|---|---|\n",
       "| auto                | 2011-12 |\n",
       "| const_expr          | 2012-11 |\n",
       "| decl_type           | 2013-07 |\n",
       "| if_with_initializer | 2020-05 |\n",
       "| lambda              | 2012-08 |\n",
       "| range_for           | 2011-12 |\n",
       "| thread_declarations | 2018-05 |\n",
       "\n"
      ],
      "text/plain": [
       "  feature             min(monthYear)\n",
       "1 auto                2011-12       \n",
       "2 const_expr          2012-11       \n",
       "3 decl_type           2013-07       \n",
       "4 if_with_initializer 2020-05       \n",
       "5 lambda              2012-08       \n",
       "6 range_for           2011-12       \n",
       "7 thread_declarations 2018-05       "
      ]
     },
     "metadata": {},
     "output_type": "display_data"
    }
   ],
   "source": [
    "cd <- as.Date(\"2010-01-01\")\n",
    "maxDate <- as.Date(\"2022-05-01\")\n",
    "\n",
    "accm = ds[FALSE,]\n",
    "nrow(accm)\n",
    "while(cd < maxDate) {\n",
    "  lastCommit <- fn$sqldf(\"select project, max(date) as date\n",
    "                       from ds \n",
    "                       where date < '$cd'\n",
    "                       group by project\");\n",
    "  \n",
    "  \n",
    "  \n",
    "  monthYear = format(cd, \"%Y-%m\");\n",
    "  \n",
    "  snapshot <- fn$sqldf(\"select ds.*, '$monthYear' as monthYear\n",
    "                        from ds, lastCommit lc\n",
    "                        where ds.project = lc.project \n",
    "                          and ds.date = lc.date\");\n",
    "  \n",
    "  \n",
    "  accm <- rbind(accm, snapshot);\n",
    "  \n",
    "  # cd <- cd + 7;\n",
    "  cd <- ymd(cd %m+% months(1))\n",
    "}\n",
    "\n",
    "rq2 <- sqldf(\"select project, monthYear, lambda, auto, range_for, if_with_initializer,          \n",
    "                      thread_declarations,future_declarations,decl_type,const_expr,\n",
    "                      shared_future_declarations,promise_declarations,async\n",
    "              from accm\")\n",
    "\n",
    "sqldf(\"select count(distinct project) from accm\")\n",
    "\n",
    "rq2 <- melt(rq2, id.vars=c(\"project\", \"monthYear\"), value.name = \"total\", variable.name=\"feature\")\n",
    "\n",
    "\n",
    "sqldf(\"select feature, min(monthYear)\n",
    "       from rq2\n",
    "       where total > 0\n",
    "       group by feature\")"
   ]
  },
  {
   "cell_type": "code",
   "execution_count": 7,
   "metadata": {
    "vscode": {
     "languageId": "r"
    }
   },
   "outputs": [
    {
     "data": {
      "text/html": [
       "<strong>png:</strong> 2"
      ],
      "text/latex": [
       "\\textbf{png:} 2"
      ],
      "text/markdown": [
       "**png:** 2"
      ],
      "text/plain": [
       "png \n",
       "  2 "
      ]
     },
     "metadata": {},
     "output_type": "display_data"
    },
    {
     "data": {
      "text/html": [
       "<strong>png:</strong> 2"
      ],
      "text/latex": [
       "\\textbf{png:} 2"
      ],
      "text/markdown": [
       "**png:** 2"
      ],
      "text/plain": [
       "png \n",
       "  2 "
      ]
     },
     "metadata": {},
     "output_type": "display_data"
    }
   ],
   "source": [
    "ts <- sqldf(\"select feature, monthYear, sum(total) total\n",
    "       from rq2 \n",
    "       group by feature, monthYear \n",
    "       order by 1,2\")\n",
    "\n",
    "ts$monthYear = as.Date(paste(ts$monthYear,\"-01\",sep=\"\"))\n",
    "\n",
    "# Customizing the output\n",
    "pdf(\"lambda.pdf\",         # File name\n",
    "    width = 8, height = 7, # Width and height in inches\n",
    "    bg = \"white\")\n",
    "xyplot(total ~ monthYear | feature, data=ts[ts$feature == 'lambda',], type = \"l\")\n",
    "dev.off()\n",
    "\n",
    "# Customizing the output\n",
    "pdf(\"auto.pdf\",         # File name\n",
    "    width = 8, height = 7, # Width and height in inches\n",
    "    bg = \"white\")\n",
    "xyplot(total ~ monthYear | feature, data=ts[ts$feature == 'auto',], type = \"l\")\n",
    "dev.off()\n",
    "\n",
    "# # Customizing the output\n",
    "# pdf(\"decl_type.pdf\",         # File name\n",
    "#     width = 8, height = 7, # Width and height in inches\n",
    "#     bg = \"white\")\n",
    "# xyplot(total ~ monthYear | feature, data=ts[ts$feature == 'decl_type',], type = \"l\")\n",
    "# dev.off()\n"
   ]
  },
  {
   "cell_type": "code",
   "execution_count": 8,
   "metadata": {
    "vscode": {
     "languageId": "r"
    }
   },
   "outputs": [
    {
     "data": {
      "text/html": [
       "<strong>png:</strong> 2"
      ],
      "text/latex": [
       "\\textbf{png:} 2"
      ],
      "text/markdown": [
       "**png:** 2"
      ],
      "text/plain": [
       "png \n",
       "  2 "
      ]
     },
     "metadata": {},
     "output_type": "display_data"
    }
   ],
   "source": [
    "pdf(\"range_for.pdf\",         # File name\n",
    "    width = 8, height = 7, # Width and height in inches\n",
    "    bg = \"white\")\n",
    "xyplot(total ~ monthYear | feature, data=ts[ts$feature == 'range_for',], type = \"l\")\n",
    "dev.off()\n",
    "\n",
    "# pdf(\"const_expr.pdf\",         # File name\n",
    "#     width = 8, height = 7, # Width and height in inches\n",
    "#     bg = \"white\")\n",
    "# xyplot(total ~ monthYear | feature, data=ts[ts$feature == 'const_expr',], type = \"l\")\n",
    "# dev.off()\n",
    "\n",
    "# pdf(\"if_with_initializer.pdf\",         # File name\n",
    "#     width = 8, height = 7, # Width and height in inches\n",
    "#     bg = \"white\")\n",
    "# xyplot(total ~ monthYear | feature, data=ts[ts$feature == 'if_with_initializer',], type = \"l\")\n",
    "# dev.off()"
   ]
  },
  {
   "cell_type": "code",
   "execution_count": 9,
   "metadata": {
    "vscode": {
     "languageId": "r"
    }
   },
   "outputs": [
    {
     "data": {
      "text/html": [
       "<strong>png:</strong> 2"
      ],
      "text/latex": [
       "\\textbf{png:} 2"
      ],
      "text/markdown": [
       "**png:** 2"
      ],
      "text/plain": [
       "png \n",
       "  2 "
      ]
     },
     "metadata": {},
     "output_type": "display_data"
    }
   ],
   "source": [
    "# Customizing the output\n",
    "\n",
    "# ts <- sqldf(\"select feature, monthYear, sum(total) total\n",
    "#        from rq2\n",
    "#         where feature in ('auto','lambda','range_for')\n",
    "#        group by feature, monthYear\n",
    "#        order by 1,2\")\n",
    "\n",
    "# ts$monthYear = as.Date(paste(ts$monthYear,\"-01\",sep=\"\"))\n",
    "\n",
    "\n",
    "# pdf(\"features.pdf\",         # File name\n",
    "#     width = 8, height = 7, # Width and height in inches\n",
    "#     bg = \"white\")\n",
    "# xyplot(total ~ monthYear | feature, data=ts, type = \"l\")\n",
    "# dev.off()\n"
   ]
  }
 ],
 "metadata": {
  "kernelspec": {
   "display_name": "R",
   "language": "R",
   "name": "ir"
  },
  "language_info": {
   "codemirror_mode": "r",
   "file_extension": ".r",
   "mimetype": "text/x-r-source",
   "name": "R",
   "pygments_lexer": "r",
   "version": "3.6.3"
  }
 },
 "nbformat": 4,
 "nbformat_minor": 5
}
